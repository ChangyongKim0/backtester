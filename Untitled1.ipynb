{
 "cells": [
  {
   "cell_type": "code",
   "execution_count": 4,
   "id": "87e41b80",
   "metadata": {},
   "outputs": [],
   "source": [
    "### 처음에만 ###\n",
    "\n",
    "# !pip install import_ipynb"
   ]
  },
  {
   "cell_type": "code",
   "execution_count": 11,
   "id": "3a2ae5bf",
   "metadata": {},
   "outputs": [
    {
     "name": "stdout",
     "output_type": "stream",
     "text": [
      "Requirement already satisfied: import_ipynb in c:\\users\\changyong\\anaconda3\\envs\\py32bit\\lib\\site-packages (0.1.3)"
     ]
    },
    {
     "name": "stderr",
     "output_type": "stream",
     "text": [
      "You are using pip version 10.0.1, however version 20.3.4 is available.\n",
      "You should consider upgrading via the 'python -m pip install --upgrade pip' command.\n"
     ]
    },
    {
     "name": "stdout",
     "output_type": "stream",
     "text": [
      "\n"
     ]
    }
   ],
   "source": [
    "!pip install import_ipynb\n"
   ]
  },
  {
   "cell_type": "code",
   "execution_count": 7,
   "id": "57fc4528",
   "metadata": {},
   "outputs": [
    {
     "name": "stdout",
     "output_type": "stream",
     "text": [
      "# packages in environment at C:\\Users\\changyong\\Anaconda3\\envs\\py32bit:\n",
      "#\n",
      "# Name                    Version                   Build  Channel\n",
      "certifi                   2020.6.20          pyhd3eb1b0_3  \n",
      "import-ipynb              0.1.3                    pypi_0    pypi\n",
      "pip                       10.0.1                   py35_0  \n",
      "python                    3.5.6                he025d50_0  \n",
      "setuptools                40.2.0                   py35_0  \n",
      "vc                        14.2                 h21ff451_1  \n",
      "vs2015_runtime            14.27.29016          h5e58377_2  \n",
      "wheel                     0.36.2             pyhd3eb1b0_0  \n",
      "wincertstore              0.2              py35hfebbdb8_0  \n"
     ]
    },
    {
     "name": "stderr",
     "output_type": "stream",
     "text": [
      "'import_ipynb'은(는) 내부 또는 외부 명령, 실행할 수 있는 프로그램, 또는\n",
      "배치 파일이 아닙니다.\n"
     ]
    },
    {
     "ename": "ModuleNotFoundError",
     "evalue": "No module named 'import_ipynb'",
     "output_type": "error",
     "traceback": [
      "\u001b[1;31m---------------------------------------------------------------------------\u001b[0m",
      "\u001b[1;31mModuleNotFoundError\u001b[0m                       Traceback (most recent call last)",
      "\u001b[1;32mC:\\Users\\CHANGY~1\\AppData\\Local\\Temp/ipykernel_23836/3905977341.py\u001b[0m in \u001b[0;36m<module>\u001b[1;34m\u001b[0m\n\u001b[0;32m      1\u001b[0m \u001b[0mget_ipython\u001b[0m\u001b[1;33m(\u001b[0m\u001b[1;33m)\u001b[0m\u001b[1;33m.\u001b[0m\u001b[0msystem\u001b[0m\u001b[1;33m(\u001b[0m\u001b[1;34m'conda list'\u001b[0m\u001b[1;33m)\u001b[0m\u001b[1;33m\u001b[0m\u001b[1;33m\u001b[0m\u001b[0m\n\u001b[0;32m      2\u001b[0m \u001b[0mget_ipython\u001b[0m\u001b[1;33m(\u001b[0m\u001b[1;33m)\u001b[0m\u001b[1;33m.\u001b[0m\u001b[0msystem\u001b[0m\u001b[1;33m(\u001b[0m\u001b[1;34m'import_ipynb'\u001b[0m\u001b[1;33m)\u001b[0m\u001b[1;33m\u001b[0m\u001b[1;33m\u001b[0m\u001b[0m\n\u001b[1;32m----> 3\u001b[1;33m \u001b[1;32mimport\u001b[0m \u001b[0mimport_ipynb\u001b[0m\u001b[1;33m\u001b[0m\u001b[1;33m\u001b[0m\u001b[0m\n\u001b[0m",
      "\u001b[1;31mModuleNotFoundError\u001b[0m: No module named 'import_ipynb'"
     ]
    }
   ],
   "source": [
    "!conda list\n",
    "!import_ipynb\n",
    "import import_ipynb"
   ]
  },
  {
   "cell_type": "code",
   "execution_count": 3,
   "id": "b852d248",
   "metadata": {},
   "outputs": [
    {
     "ename": "ModuleNotFoundError",
     "evalue": "No module named 'import_ipynb'",
     "output_type": "error",
     "traceback": [
      "\u001b[1;31m---------------------------------------------------------------------------\u001b[0m",
      "\u001b[1;31mModuleNotFoundError\u001b[0m                       Traceback (most recent call last)",
      "\u001b[1;32mC:\\Users\\CHANGY~1\\AppData\\Local\\Temp/ipykernel_23836/836450327.py\u001b[0m in \u001b[0;36m<module>\u001b[1;34m\u001b[0m\n\u001b[1;32m----> 1\u001b[1;33m \u001b[1;32mimport\u001b[0m \u001b[0mimport_ipynb\u001b[0m\u001b[1;33m\u001b[0m\u001b[1;33m\u001b[0m\u001b[0m\n\u001b[0m\u001b[0;32m      2\u001b[0m \u001b[1;33m\u001b[0m\u001b[0m\n\u001b[0;32m      3\u001b[0m \u001b[1;32mimport\u001b[0m \u001b[0mwin32com\u001b[0m\u001b[1;33m.\u001b[0m\u001b[0mclient\u001b[0m\u001b[1;33m\u001b[0m\u001b[1;33m\u001b[0m\u001b[0m\n\u001b[0;32m      4\u001b[0m \u001b[1;32mimport\u001b[0m \u001b[0mpythoncom\u001b[0m\u001b[1;33m\u001b[0m\u001b[1;33m\u001b[0m\u001b[0m\n\u001b[0;32m      5\u001b[0m \u001b[1;33m\u001b[0m\u001b[0m\n",
      "\u001b[1;31mModuleNotFoundError\u001b[0m: No module named 'import_ipynb'"
     ]
    }
   ],
   "source": [
    "import import-ipynb\n",
    "\n",
    "import win32com.client\n",
    "import pythoncom\n",
    "\n",
    "import xing_login\n",
    "import win32com\n",
    "\n",
    "\n",
    "class XQuery_t1101:\n",
    "    \"\"\"\n",
    "    classmethod get_instance() 를 사용하여, instance 를 만들어야함.\n",
    "    \"\"\"\n",
    "    def __init__(self):\n",
    "        self.is_data_received = False\n",
    "\n",
    "    def OnReceiveData(self, tr_code):  # event handler\n",
    "        \"\"\"\n",
    "        이베스트 서버에서 ReceiveData 이벤트 받으면 실행되는 event handler\n",
    "        \"\"\"\n",
    "        self.is_data_received = True\n",
    "        name = self.GetFieldData(\"t1101OutBlock\", \"hname\", 0)\n",
    "        price = self.GetFieldData(\"t1101OutBlock\", \"price\", 0)\n",
    "        volume = self.GetFieldData(\"t1101OutBlock\", \"volume\", 0)\n",
    "        print(\"종목; {0}\".format(name))\n",
    "        print(\"현재가; {0}\".format(price))\n",
    "        print(\"누적거래량; {0}\".format(volume))\n",
    "\n",
    "        print(\"tr code ==> {0}\".format(tr_code))\n",
    "\n",
    "    def single_request(self, stockcode):\n",
    "        self.ResFileName = \"C:\\\\eBEST\\\\xingAPI\\\\Res\\\\t1101.res\"  # RES 파일 등록\n",
    "        self.SetFieldData(\"t1101InBlock\", \"shcode\", 0, stockcode)  # 종목코드 설정\n",
    "        err_code = self.Request(False)  # data 요청하기 --  연속조회인경우만 True\n",
    "\n",
    "        if err_code < 0:\n",
    "            print(\"error... {0}\".format(err_code))\n",
    "\n",
    "    @classmethod\n",
    "    def get_instance(cls):\n",
    "        # DispatchWithEvents로 instance 생성하기\n",
    "        xq_t1101 = win32com.client.DispatchWithEvents(\"XA_DataSet.XAQuery\", cls)\n",
    "        return xq_t1101\n",
    "\n",
    "\n",
    "if __name__ == \"__main__\":\n",
    "    def get_single_data():\n",
    "        xq_t1101 = XQuery_t1101.get_instance()\n",
    "        xq_t1101.single_request(\"005930\") # 삼성전자.\n",
    "\n",
    "        while xq_t1101.is_data_received == False:\n",
    "            pythoncom.PumpWaitingMessages()\n",
    "\n",
    "\n",
    "    xsession = xing_login.XSession.get_instance()\n",
    "    xsession.api_login()\n",
    "\n",
    "    get_single_data()\n"
   ]
  },
  {
   "cell_type": "code",
   "execution_count": null,
   "id": "c2be18c8",
   "metadata": {},
   "outputs": [],
   "source": []
  },
  {
   "cell_type": "code",
   "execution_count": null,
   "id": "b24bcfa4",
   "metadata": {},
   "outputs": [],
   "source": []
  }
 ],
 "metadata": {
  "kernelspec": {
   "display_name": "Python 3 (ipykernel)",
   "language": "python",
   "name": "python3"
  },
  "language_info": {
   "codemirror_mode": {
    "name": "ipython",
    "version": 3
   },
   "file_extension": ".py",
   "mimetype": "text/x-python",
   "name": "python",
   "nbconvert_exporter": "python",
   "pygments_lexer": "ipython3",
   "version": "3.8.1"
  }
 },
 "nbformat": 4,
 "nbformat_minor": 5
}
