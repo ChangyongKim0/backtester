{
 "cells": [
  {
   "cell_type": "code",
   "execution_count": 1,
   "source": [
    "import win32com.client\r\n",
    "import pythoncom\r\n",
    "\r\n",
    "class XSession:\r\n",
    "#     classmethod get_instance() 를 사용하여, instance 를 만들어야함.\r\n",
    "    def __init__(self):\r\n",
    "        self.login_state = 0\r\n",
    "\r\n",
    "    def OnLogin(self, code, msg):  # event handler\r\n",
    "#         Login 이 성공적으로 이베스트 서버로 전송된후,\r\n",
    "#         로그인 결과에 대한 Login 이벤트 발생시 실행되는 event handler\r\n",
    "        if code == \"0000\":\r\n",
    "            print(\"로그인 ok\\n\")\r\n",
    "            self.login_state = 1\r\n",
    "        else:\r\n",
    "            self.login_state = 2\r\n",
    "            print(\"로그인 fail.. \\n code={0}, message={1}\\n\".format(code, msg))\r\n",
    "\r\n",
    "    def api_login(self, id=\"cyklone\", pwd=\"ckddyd!1\", cert_pwd=\"cyklone001@\"): # id, 암호, 공인인증서 암호\r\n",
    "        self.ConnectServer(\"hts.ebestsec.co.kr\", 20001)\r\n",
    "        is_connected = self.Login(id, pwd, cert_pwd, 0, False)  # 로그인 하기\r\n",
    "\r\n",
    "        if not is_connected:  # 서버에 연결 안되거나, 전송 에러시\r\n",
    "            print(\"로그인 서버 접속 실패... \")\r\n",
    "            return\r\n",
    "\r\n",
    "        while self.login_state == 0:\r\n",
    "            pythoncom.PumpWaitingMessages()\r\n",
    "\r\n",
    "    def account_info(self):\r\n",
    "#         \"\"\"\r\n",
    "#         계좌 정보 조회\r\n",
    "#         \"\"\"\r\n",
    "        if self.login_state != 1:  # 로그인 성공 아니면, 종료\r\n",
    "            return\r\n",
    "\r\n",
    "        account_no = self.GetAccountListCount()\r\n",
    "\r\n",
    "        print(\"계좌 갯수 = {0}\".format(account_no))\r\n",
    "\r\n",
    "        for i in range(account_no):\r\n",
    "            account = self.GetAccountList(i)\r\n",
    "            print(\"계좌번호 = {0}\".format(account))\r\n",
    "\r\n",
    "    @classmethod\r\n",
    "    def get_instance(cls):\r\n",
    "        # DispatchWithEvents로 instance 생성하기\r\n",
    "        xsession = win32com.client.DispatchWithEvents(\"XA_Session.XASession\", cls)\r\n",
    "        return xsession\r\n",
    "\r\n",
    "\r\n",
    "if __name__ == \"__main__\":\r\n",
    "    xsession = XSession.get_instance()\r\n",
    "    xsession.api_login()\r\n",
    "\r\n",
    "    xsession.account_info()\r\n",
    "    print(\"------END--\")"
   ],
   "outputs": [
    {
     "output_type": "stream",
     "name": "stdout",
     "text": [
      "로그인 ok\n",
      "\n",
      "계좌 갯수 = 1\n",
      "계좌번호 = 20513586601\n",
      "------END--\n"
     ]
    }
   ],
   "metadata": {}
  },
  {
   "cell_type": "code",
   "execution_count": null,
   "source": [],
   "outputs": [],
   "metadata": {}
  }
 ],
 "metadata": {
  "kernelspec": {
   "name": "python3",
   "display_name": "Python 3.8.1 32-bit"
  },
  "language_info": {
   "codemirror_mode": {
    "name": "ipython",
    "version": 3
   },
   "file_extension": ".py",
   "mimetype": "text/x-python",
   "name": "python",
   "nbconvert_exporter": "python",
   "pygments_lexer": "ipython3",
   "version": "3.8.1"
  },
  "interpreter": {
   "hash": "c9fd62a283387f061567623fe277dc01ae64d1365025eb46edefec4f0e0166d0"
  }
 },
 "nbformat": 4,
 "nbformat_minor": 2
}